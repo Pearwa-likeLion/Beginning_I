{
  "nbformat": 4,
  "nbformat_minor": 0,
  "metadata": {
    "colab": {
      "name": "Untitled3.ipynb",
      "provenance": [],
      "collapsed_sections": [],
      "authorship_tag": "ABX9TyNoqSN1lIfkH9aCz7orxCvA",
      "include_colab_link": true
    },
    "kernelspec": {
      "name": "python3",
      "display_name": "Python 3"
    },
    "language_info": {
      "name": "python"
    }
  },
  "cells": [
    {
      "cell_type": "markdown",
      "metadata": {
        "id": "view-in-github",
        "colab_type": "text"
      },
      "source": [
        "<a href=\"https://colab.research.google.com/github/Pearwa-likeLion/Beginning_I/blob/test00/Classifierpy.ipynb\" target=\"_parent\"><img src=\"https://colab.research.google.com/assets/colab-badge.svg\" alt=\"Open In Colab\"/></a>"
      ]
    },
    {
      "cell_type": "code",
      "metadata": {
        "id": "O-ENaTW7sTPx"
      },
      "source": [
        "#importชุดข้อมูลiris \n",
        "from sklearn.datasets import load_iris\n",
        "import pandas as pd\n",
        "import numpy as np\n",
        "import matplotlib.pyplot as plt\n",
        "\n",
        "iris_dataset = load_iris()\n",
        "#print(iris_dataset.data)"
      ],
      "execution_count": null,
      "outputs": []
    },
    {
      "cell_type": "code",
      "metadata": {
        "colab": {
          "base_uri": "https://localhost:8080/"
        },
        "id": "S3G_M8-JtMdu",
        "outputId": "4f700c3b-4935-40aa-9022-f54374bcbd61"
      },
      "source": [
        "#สร้างชุดข้อมูล\n",
        "x = pd.DataFrame(iris_dataset.data , columns=iris_dataset.feature_names)\n",
        "y = pd.DataFrame(iris_dataset.target)\n",
        "\n",
        "#Train/test\n",
        "from sklearn.model_selection import train_test_split\n",
        "x.train , x.test , y.train , y.test = train_test_split(x,y,test_size=0.3,random_state=0)\n",
        "print(x.train)"
      ],
      "execution_count": 7,
      "outputs": [
        {
          "output_type": "stream",
          "text": [
            "     sepal length (cm)  sepal width (cm)  petal length (cm)  petal width (cm)\n",
            "60                 5.0               2.0                3.5               1.0\n",
            "116                6.5               3.0                5.5               1.8\n",
            "144                6.7               3.3                5.7               2.5\n",
            "119                6.0               2.2                5.0               1.5\n",
            "108                6.7               2.5                5.8               1.8\n",
            "..                 ...               ...                ...               ...\n",
            "9                  4.9               3.1                1.5               0.1\n",
            "103                6.3               2.9                5.6               1.8\n",
            "67                 5.8               2.7                4.1               1.0\n",
            "117                7.7               3.8                6.7               2.2\n",
            "47                 4.6               3.2                1.4               0.2\n",
            "\n",
            "[105 rows x 4 columns]\n"
          ],
          "name": "stdout"
        },
        {
          "output_type": "stream",
          "text": [
            "/usr/local/lib/python3.7/dist-packages/ipykernel_launcher.py:6: UserWarning: Pandas doesn't allow columns to be created via a new attribute name - see https://pandas.pydata.org/pandas-docs/stable/indexing.html#attribute-access\n",
            "  \n"
          ],
          "name": "stderr"
        }
      ]
    },
    {
      "cell_type": "code",
      "metadata": {
        "id": "rhQWL_nUv4VB"
      },
      "source": [
        "#จัดค่าให้มีความใกล้เคียงกัน\n",
        "\n",
        "#_________________*************************____________________________\n",
        "#from sklearn.preprocessing import StandardScaler\n",
        "#sc = StandardScaler()\n",
        "#sc.fit(x.train)\n",
        "\n",
        "#x_train_std = sc.transform(x.train)\n",
        "#x_test_std = sc.transform(x.test)\n",
        "\n",
        "#y_train = np.ravel(y.train)\n",
        "#y_test = np.ravel(y.test)\n",
        "\n",
        "#print(x_train_std.mean())\n",
        "#print(x_train_std.var())\n",
        "#_________________*************************____________________________\n"
      ],
      "execution_count": 11,
      "outputs": []
    },
    {
      "cell_type": "code",
      "metadata": {
        "colab": {
          "base_uri": "https://localhost:8080/"
        },
        "id": "s4UBuLi2xmNl",
        "outputId": "771118c2-04c9-4b6a-ff1c-fa297cbb3577"
      },
      "source": [
        "#KNN MOdel\n",
        "from sklearn.neighbors import KNeighborsClassifier\n",
        "knn = KNeighborsClassifier(n_neighbors=1)\n",
        "\n",
        "knn.fit(x_train_std,y_train)\n",
        "\n",
        "#score หาความแม่นยำของการเรียนรู้และการทดสอบ\n",
        "print(\"Accuracy KNN (train) : {:.2f}\".format(knn.score(x_train_std,y_train)))\n",
        "print(\"Accuracy KNN (test) : {:.2f}\".format(knn.score(x_test_std,y_test)))\n"
      ],
      "execution_count": 13,
      "outputs": [
        {
          "output_type": "stream",
          "text": [
            "Accuracy KNN (train) : 1.00\n",
            "Accuracy KNN (test) : 0.93\n"
          ],
          "name": "stdout"
        }
      ]
    },
    {
      "cell_type": "code",
      "metadata": {
        "colab": {
          "base_uri": "https://localhost:8080/"
        },
        "id": "wWTlubSc0HcJ",
        "outputId": "3cc13fd0-a92a-4c10-c3d3-ecb27a762552"
      },
      "source": [
        "from sklearn import tree\n",
        "decision_tree = tree.DecisionTreeClassifier()\n",
        "\n",
        "#training data\n",
        "decision_tree.fit(x_train_std,y_train)\n",
        "\n",
        "# performace\n",
        "print(decision_tree.score(x_train_std,y_train))\n",
        "print(decision_tree.score(x_test_std,y_test))\n",
        "\n"
      ],
      "execution_count": 17,
      "outputs": [
        {
          "output_type": "stream",
          "text": [
            "1.0\n",
            "0.9777777777777777\n"
          ],
          "name": "stdout"
        }
      ]
    },
    {
      "cell_type": "code",
      "metadata": {
        "id": "Uo94YNbn1JiS"
      },
      "source": [
        "import graphviz \n",
        "dot_data = tree.export_graphviz(decision_tree, out_file=None) \n",
        "graph = graphviz.Source(dot_data) \n",
        "graph.render(\"iris\") \n",
        "\n",
        "dot_data = tree.export_graphviz(decision_tree, out_file=None, \n",
        "                     feature_names=iris_dataset.feature_names,  \n",
        "                     class_names=iris_dataset.target_names,  \n",
        "                     filled=True, rounded=True,  \n",
        "                     special_characters=True)  \n",
        "graph = graphviz.Source(dot_data)  \n",
        "graph \n"
      ],
      "execution_count": null,
      "outputs": []
    },
    {
      "cell_type": "code",
      "metadata": {
        "colab": {
          "base_uri": "https://localhost:8080/"
        },
        "id": "LuuG6RRy2WLu",
        "outputId": "d38b7ff8-526d-4381-b911-71d401fa0c96"
      },
      "source": [
        "#NeuralNetwork\n",
        "from sklearn.neural_network import MLPClassifier\n",
        "mlp = MLPClassifier(hidden_layer_sizes=(2,4),random_state=0)\n",
        "\n",
        "mlp.fit(x_train_std,y_train)\n",
        "\n",
        "print(\"Accuracy KNN (train) : {:.2f}\".format(mlp.score(x_train_std,y_train)))\n",
        "print(\"Accuracy KNN (test) : {:.2f}\".format(mlp.score(x_test_std,y_test)))"
      ],
      "execution_count": 26,
      "outputs": [
        {
          "output_type": "stream",
          "text": [
            "Accuracy KNN (train) : 0.89\n",
            "Accuracy KNN (test) : 0.98\n"
          ],
          "name": "stdout"
        },
        {
          "output_type": "stream",
          "text": [
            "/usr/local/lib/python3.7/dist-packages/sklearn/neural_network/_multilayer_perceptron.py:571: ConvergenceWarning: Stochastic Optimizer: Maximum iterations (200) reached and the optimization hasn't converged yet.\n",
            "  % self.max_iter, ConvergenceWarning)\n"
          ],
          "name": "stderr"
        }
      ]
    },
    {
      "cell_type": "code",
      "metadata": {
        "id": "5l6KKyTT3Wda"
      },
      "source": [
        ""
      ],
      "execution_count": null,
      "outputs": []
    }
  ]
}