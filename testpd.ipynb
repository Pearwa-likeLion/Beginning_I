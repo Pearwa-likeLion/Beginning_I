{
  "nbformat": 4,
  "nbformat_minor": 0,
  "metadata": {
    "colab": {
      "name": "Untitled2.ipynb",
      "provenance": [],
      "authorship_tag": "ABX9TyPd7h700CokxEySFNMT1yS6",
      "include_colab_link": true
    },
    "kernelspec": {
      "name": "python3",
      "display_name": "Python 3"
    },
    "language_info": {
      "name": "python"
    }
  },
  "cells": [
    {
      "cell_type": "markdown",
      "metadata": {
        "id": "view-in-github",
        "colab_type": "text"
      },
      "source": [
        "<a href=\"https://colab.research.google.com/github/Pearwa-likeLion/Beginning_I/blob/test00/testpd.ipynb\" target=\"_parent\"><img src=\"https://colab.research.google.com/assets/colab-badge.svg\" alt=\"Open In Colab\"/></a>"
      ]
    },
    {
      "cell_type": "code",
      "metadata": {
        "colab": {
          "base_uri": "https://localhost:8080/"
        },
        "id": "bbCwRBukZrQT",
        "outputId": "a895db34-3846-4032-cfce-4f0b73ab045f"
      },
      "source": [
        "import pandas as pd\n",
        "d={\n",
        "    'Age' : pd.Series(['17', '15', '56'] ,index=[\"Pearwa\" ,\"Praw\" , \"Dean\"]),\n",
        "    'Tall' : pd.Series(['156', '165', '146'],index=[\"Pearwa\" ,\"Praw\" , \"Dean\"])\n",
        "}\n",
        "df = pd.DataFrame(d)\n",
        "print(df)"
      ],
      "execution_count": 7,
      "outputs": [
        {
          "output_type": "stream",
          "text": [
            "       Age Tall\n",
            "Pearwa  17  156\n",
            "Praw    15  165\n",
            "Dean    56  146\n"
          ],
          "name": "stdout"
        }
      ]
    }
  ]
}